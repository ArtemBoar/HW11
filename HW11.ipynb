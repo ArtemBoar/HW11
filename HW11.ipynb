{
 "cells": [
  {
   "cell_type": "markdown",
   "metadata": {
    "id": "b0Yf4NBJUSNM"
   },
   "source": [
    "# Створення нейронної мережі\n",
    "\n",
    "У цьому завданні ми створимо повнозв'язну нейронну мережу, використовуючи при цьому низькорівневі механізми tensorflow.\n",
    "\n",
    "Архітектура нейромережі представлена на наступному малюнку. Як бачиш, у ній є один вхідний шар, два приховані, а також вихідний шар. В якості активаційної функції у прихованих шарах буде використовуватись сигмоїда. На вихідному шарі ми використовуємо softmax.\n",
    "\n",
    "Частина коду зі створення мережі вже написана, тобі потрібно заповнити пропуски у вказаних місцях."
   ]
  },
  {
   "cell_type": "markdown",
   "metadata": {
    "id": "01rZWUu0USNQ"
   },
   "source": [
    "## Архітектура нейронної мережі\n",
    "\n",
    "<img src=\"http://cs231n.github.io/assets/nn1/neural_net2.jpeg\" alt=\"nn\" style=\"width: 400px;\"/>\n"
   ]
  },
  {
   "cell_type": "markdown",
   "metadata": {
    "id": "LLvIZ705Qw_V"
   },
   "source": [
    "## Про датасет MNIST\n",
    "\n",
    "Дану нейромережу ми будемо вивчати на датасеті MNIST. Цей датасет являє собою велику кількість зображень рукописних цифр розміром $28 \\times 28$ пікселів. Кожен піксель приймає значення від 0 до 255.\n",
    "\n",
    "Як і раніше, датасет буде розділений на навчальну та тестову вибірки. При цьому ми виконаємо нормалізацію всіх зображень, щоб значення пікселів знаходилось у проміжку від 0 до 1, розділивши яскравість кожного пікселя на 255.\n",
    "\n",
    "Окрім того, архітектура нейронної мережі очікує на вхід вектор. У нашому ж випадку кожен об'єкт вибірки являє собою матрицю. Що ж робити? У цьому завданні ми \"розтягнемо\" матрицю $28 \\times 28$, отримавши при цьому вектор, що складається з 784 елементів.\n",
    "\n",
    "![MNIST Dataset](https://www.researchgate.net/profile/Steven-Young-5/publication/306056875/figure/fig1/AS:393921575309346@1470929630835/Example-images-from-the-MNIST-dataset.png)\n",
    "\n",
    "Більше інформації про датасет можна знайти [тут](http://yann.lecun.com/exdb/mnist/)."
   ]
  },
  {
   "cell_type": "code",
   "execution_count": null,
   "metadata": {
    "id": "il_0_5OyUSNR"
   },
   "outputs": [],
   "source": [
    "import tensorflow as tf\n",
    "import numpy as np\n",
    "import pandas as pd\n",
    "import matplotlib.pyplot as plt\n",
    "import random\n",
    "import keras as K\n",
    "import seaborn as sns\n",
    "from sklearn.metrics import confusion_matrix"
   ]
  },
  {
   "cell_type": "code",
   "execution_count": null,
   "metadata": {
    "id": "cd-1_abTUSNS"
   },
   "outputs": [],
   "source": [
    "num_classes = 10 \n",
    "num_features = 784 \n",
    "\n",
    "learning_rate = 0.001\n",
    "training_steps = 3000 \n",
    "batch_size = 256 \n",
    "display_step = 100\n",
    "\n",
    "n_hidden_1 = 128 \n",
    "n_hidden_2 = 256 "
   ]
  },
  {
   "cell_type": "code",
   "execution_count": null,
   "metadata": {
    "colab": {
     "base_uri": "https://localhost:8080/"
    },
    "id": "pGTXiRyTUSNT",
    "outputId": "68f5b9d9-6c78-4bda-b26f-69aa82e93f20"
   },
   "outputs": [],
   "source": [
    "from keras.datasets import mnist\n",
    "\n",
    "(x_train, y_train), (x_test, y_test) = mnist.load_data()\n",
    "\n",
    "x_train, x_test = np.array(x_train, np.float32), np.array(x_test, np.float32)\n",
    "\n",
    "x_train, x_test = x_train.reshape([-1, num_features]), x_test.reshape([-1, num_features])\n",
    "\n",
    "x_train, x_test = x_train / 255., x_test / 255.\n",
    "\n",
    "train_data = tf.data.Dataset.from_tensor_slices((x_train, y_train))\n",
    "train_data = train_data.repeat().shuffle(5000).batch(batch_size).prefetch(1)"
   ]
  },
  {
   "cell_type": "code",
   "execution_count": null,
   "metadata": {
    "id": "FkRmCQjnUSNV"
   },
   "outputs": [],
   "source": [
    "class DenseLayer(tf.Module):\n",
    "    def __init__(self, in_features, out_features, name=None):\n",
    "        super().__init__(name=name)\n",
    "        self.w = tf.Variable(\n",
    "            tf.random.normal([in_features, out_features]), name=\"w\"\n",
    "        )\n",
    "        self.b = tf.Variable(tf.zeros([out_features]), name=\"b\")\n",
    "\n",
    "    def __call__(self, x, activation=0):\n",
    "        y = tf.matmul(x, self.w) + self.b\n",
    "        if activation != 0:\n",
    "            return tf.nn.softmax(y)\n",
    "        else:\n",
    "            return tf.nn.sigmoid(y)\n",
    "\n",
    "class NN(tf.Module):\n",
    "  def __init__(self, name=None):\n",
    "    super().__init__(name=name)\n",
    "    self.w1 = tf.Variable(tf.random.normal([num_features, 128]), name='w1')\n",
    "    self.b1 = tf.Variable(tf.zeros([128]), name='b1')\n",
    "\n",
    "    self.w2 = tf.Variable(tf.random.normal([128, 256]), name='w2')\n",
    "    self.b2 = tf.Variable(tf.zeros([256]), name='b2')\n",
    "\n",
    "    self.w3 = tf.Variable(tf.random.normal([256, 10]), name='w3')\n",
    "    self.b3 = tf.Variable(tf.zeros([10]), name='b3')\n",
    "\n",
    "\n",
    "  def __call__(self, x):\n",
    "      x = tf.matmul(x, self.w1) + self.b1\n",
    "      x = tf.nn.relu(x)\n",
    "      x = tf.matmul(x, self.w2) + self.b2\n",
    "      x = tf.nn.relu(x)\n",
    "      x = tf.matmul(x, self.w3) + self.b3\n",
    "\n",
    "      return tf.nn.softmax(x)"
   ]
  },
  {
   "cell_type": "code",
   "execution_count": null,
   "metadata": {
    "id": "LIf3o7VAUSNV"
   },
   "outputs": [],
   "source": [
    "def cross_entropy(y_pred, y_true):\n",
    "    y_true = tf.one_hot(y_true, depth=num_classes)\n",
    "    y_pred = tf.clip_by_value(y_pred, 1e-9, 1.)\n",
    "    return tf.reduce_mean(-tf.reduce_sum(y_true * tf.math.log(y_pred)))\n",
    "\n",
    "def accuracy(y_pred, y_true):\n",
    "    y_pred_classes = tf.argmax(y_pred, axis=1)\n",
    "    y_true = tf.cast(y_true, tf.int64)\n",
    "    accuracy_value = tf.reduce_mean(tf.cast(y_pred_classes == y_true, tf.float32))\n",
    "\n",
    "    return accuracy_value"
   ]
  },
  {
   "cell_type": "code",
   "execution_count": null,
   "metadata": {
    "id": "MQeT1yatUSNW"
   },
   "outputs": [],
   "source": [
    "neural_net = NN(name=\"mnist\")\n",
    "\n",
    "def train(neural_net, input_x, output_y, learning_rate=0.01):\n",
    "  optimizer = tf.optimizers.SGD(learning_rate)\n",
    "\n",
    "  with tf.GradientTape() as g:\n",
    "    pred = neural_net(input_x)\n",
    "    loss = cross_entropy(pred, output_y)\n",
    "\n",
    "  trainable_variables = neural_net.trainable_variables\n",
    "  gradients = g.gradient(loss, trainable_variables)\n",
    "  optimizer.apply_gradients(zip(gradients, trainable_variables))\n",
    "\n",
    "  return loss"
   ]
  },
  {
   "cell_type": "code",
   "execution_count": null,
   "metadata": {
    "id": "fnyns9lBfpQZ"
   },
   "outputs": [],
   "source": [
    "loss_history = []  \n",
    "accuracy_history = [] \n",
    "\n",
    "for step, (batch_x, batch_y) in enumerate(train_data.take(training_steps), 1):\n",
    "    batch_x = tf.reshape(batch_x, (-1, 784))\n",
    "\n",
    "    loss = train(neural_net, batch_x, batch_y, learning_rate=0.01)\n",
    "\n",
    "    if step % display_step == 0:\n",
    "        pred = neural_net(batch_x)\n",
    "        loss_value = cross_entropy(pred, batch_y)  \n",
    "        accuracy_value = accuracy(pred, batch_y)  \n",
    "        loss_history.append(loss_value.numpy())\n",
    "        accuracy_history.append(accuracy_value.numpy())\n",
    "\n",
    "        print(f\"Step {step}, Loss: {loss_value.numpy():.4f}, Accuracy: {accuracy_value.numpy():.4%}\")\n",
    "\n"
   ]
  },
  {
   "cell_type": "code",
   "execution_count": null,
   "metadata": {
    "id": "_yCBfG6MbQB2"
   },
   "outputs": [],
   "source": [
    "import matplotlib.pyplot as plt\n",
    "\n",
    "plt.figure(figsize=(14, 6))\n",
    "\n",
    "plt.subplot(1, 2, 1)  \n",
    "plt.plot(loss_history, label='Loss', color='blue')\n",
    "plt.title('Loss vs. Steps')\n",
    "plt.xlabel('Steps')\n",
    "plt.ylabel('Loss')\n",
    "plt.grid()\n",
    "plt.legend()\n",
    "\n",
    "plt.subplot(1, 2, 2) \n",
    "plt.plot(accuracy_history, label='Accuracy', color='green')\n",
    "plt.title('Accuracy vs. Steps')\n",
    "plt.xlabel('Steps')\n",
    "plt.ylabel('Accuracy')\n",
    "plt.grid()\n",
    "plt.legend()\n",
    "\n",
    "plt.tight_layout()\n",
    "plt.show()\n"
   ]
  },
  {
   "cell_type": "code",
   "execution_count": null,
   "metadata": {
    "id": "LE3g4gDyUSNY"
   },
   "outputs": [],
   "source": [
    "train_accuracy_values = []\n",
    "\n",
    "for batch_x, batch_y in train_data:\n",
    "    pred = neural_net(batch_x)  \n",
    "    train_accuracy_values.append(accuracy(pred, batch_y).numpy())  \n",
    "\n",
    "average_train_accuracy = np.mean(train_accuracy_values)\n",
    "print(f\"Точність на тренувальних даних: {average_train_accuracy:.4%}\")\n"
   ]
  },
  {
   "cell_type": "code",
   "execution_count": null,
   "metadata": {
    "id": "_EEHAubOUSNY"
   },
   "outputs": [],
   "source": [
    "test_images, test_labels = next(iter(test_data.shuffle(buffer_size=10000).take(5)))\n",
    "\n",
    "predictions = neural_net(test_images)\n",
    "\n",
    "plt.figure(figsize=(15, 5))\n",
    "\n",
    "incorrect_count = 0\n",
    "\n",
    "for i in range(len(test_images)):\n",
    "    plt.subplot(2, 5, i + 1)\n",
    "    plt.imshow(test_images[i].numpy().reshape(28, 28), cmap='gray')\n",
    "    plt.axis('off')\n",
    "    predicted_class = tf.argmax(predictions[i]).numpy()\n",
    "    true_class = test_labels[i].numpy()\n",
    "    plt.title(f'True: {true_class}, Pred: {predicted_class}')\n",
    "    \n",
    "    if predicted_class != true_class:\n",
    "        incorrect_count += 1\n",
    "\n",
    "plt.show()\n",
    "\n",
    "error_rate = incorrect_count / len(test_images)\n",
    "print(f\"Кількість помилок: {incorrect_count} з {len(test_images)} зображень.\")\n",
    "print(f\"Частота помилок: {error_rate:.2%}\")\n",
    "\n"
   ]
  },
  {
   "cell_type": "code",
   "execution_count": null,
   "metadata": {},
   "outputs": [],
   "source": []
  }
 ],
 "metadata": {
  "colab": {
   "provenance": []
  },
  "kernelspec": {
   "display_name": "Python 3 (ipykernel)",
   "language": "python",
   "name": "python3"
  },
  "language_info": {
   "codemirror_mode": {
    "name": "ipython",
    "version": 3
   },
   "file_extension": ".py",
   "mimetype": "text/x-python",
   "name": "python",
   "nbconvert_exporter": "python",
   "pygments_lexer": "ipython3",
   "version": "3.12.3"
  }
 },
 "nbformat": 4,
 "nbformat_minor": 4
}
